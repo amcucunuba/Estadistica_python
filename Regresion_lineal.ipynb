{
 "cells": [
  {
   "cell_type": "markdown",
   "metadata": {},
   "source": [
    "# Modelos de regresion lineal, machine learning\n",
    "Los modelos de regresion lineal son aplicables a los calculos numericos.\n",
    "Los datos que se exportan en una API vienen en formato .JSON "
   ]
  },
  {
   "cell_type": "markdown",
   "metadata": {},
   "source": [
    "## Regresión Lineal\n",
    "En estadística, la regresión lineal o ajuste lineal es un modelo matemático usado para aproximar la relación de dependencia entre una variable dependiente Y (sea continua),m variables independientes \n",
    "X_{i}, con ∈ Z+ y un término aleatorio e. \n",
    "\n",
    "Este método es aplicable en muchas situaciones en las que se estudia la relación entre dos o más variables o para predecir un comportamiento, algunas incluso sin relación con la tecnología. En caso de que no se pueda aplicar un modelo de regresión a un estudio, se dice que no hay correlación entre las variables estudiadas\n",
    "\n",
    "la grafica de regresión lineal relaciona la variable dependiente (Y) vs las variables independientes (x) con una recta intentando pasar por cada uno de los datos, la recta es el valor que relaciona a todas las variables, es decir la variable Y, para que cuando llegue un nuevo registro de datos se pueda estimar "
   ]
  },
  {
   "cell_type": "code",
   "execution_count": 1,
   "metadata": {},
   "outputs": [],
   "source": [
    "import pandas as pd\n",
    "import numpy as np"
   ]
  },
  {
   "cell_type": "markdown",
   "metadata": {},
   "source": [
    "Los modelos de machine learning requieren de la regresion lineal y de los analisis de correlación para entrenar los modelos, las correlación indica que tan dependientes son dos variables entre sí, si al cambiar una variable la otra cambia (de manera uniforme o inversa) o no se ve afectada. \n",
    "\n",
    "La mejor forma de ver las correlaciones es a traves de un grafico de seaborn, especificamente un grafico de calor, en el que por medio de los colores sea más fácil de identificar las relaciones\n",
    "Las correlaciones se miden en rango de -1 a 1, si el valor es 1, indica que se trata de la misma variable que esta siendo correlacionada contra si misma.\n",
    "\n",
    "**Para generar modelos de regresión lineal se necesita que los datos tengan una distribucion simetrica**. "
   ]
  },
  {
   "attachments": {
    "image-2.png": {
     "image/png": "[encoded data removed]"
    },
    "image.png": {
     "image/png": "[encoded data removed]"
    }
   },
   "cell_type": "markdown",
   "metadata": {},
   "source": [
    "#### Transformación de las variables\n",
    "Estamos realizando una transformación logarítmica de las variables para obtener una distribución simétrica (más cercana a la normal), por lo que podemos usar el modelo de regresión lineal. La transformación realizada es:\n",
    "![image.png](attachment:image.png)\n",
    "\n",
    "Recuerda realizar la transformación inversa para obtener el valor original:\n",
    "![image-2.png](attachment:image-2.png)\n",
    "\n",
    "#### Logaritmo\n",
    "Tuvieron gran importancia porque simplificaban los cálculos numéricos, Se define el logaritmo como el proceso de hallar el exponente al cual fue elevada la base para obtener un número.\n",
    "\n",
    "Los valores numericos son tranformados en valores logaritmicos, generando así una distribución simetrica. \n",
    "Para más detalles consultar las documentaciones log1p, expm1 e FunctionTransformer"
   ]
  },
  {
   "cell_type": "markdown",
   "metadata": {},
   "source": [
    ".select_dtypes(exclude=['object']), con esta función estoy exluyendo variables de tipo objeto o cualqueiera que no necesite "
   ]
  },
  {
   "cell_type": "markdown",
   "metadata": {},
   "source": [
    "pd.json_normaliza(datos.columna, ), permite visualizar las columnas escondidas, \n",
    "\n",
    "pd.json_normaliza(datos.columna, sep='_')cuando hay varias variables escondidas dentro de una, las puedo contatenar con el guion bajo\n",
    "\n"
   ]
  },
  {
   "cell_type": "markdown",
   "metadata": {},
   "source": [
    "#### limpieza de datos \n",
    "for columna in datos.columns:\n",
    "    print(\"=====\")*30\n",
    "    print(datos.[columna].value_counts())\n",
    "\n",
    "esto me permetira ver cada una de las variables y el typo de datos que contiene, además de ver los vacion, null o nan\n",
    "datos.info(), \n",
    "\n",
    "#### mostar el rango del index\n",
    "dato.info(verbose=False), me permite ver el rango de los indices \n"
   ]
  },
  {
   "cell_type": "markdown",
   "metadata": {},
   "source": [
    "pd.get_dumies(), transforma de object a numeros\n"
   ]
  },
  {
   "cell_type": "markdown",
   "metadata": {},
   "source": []
  },
  {
   "cell_type": "code",
   "execution_count": 17,
   "metadata": {},
   "outputs": [
    {
     "data": {
      "text/plain": [
       "{'apple': 2, 'orange': 1}"
      ]
     },
     "execution_count": 17,
     "metadata": {},
     "output_type": "execute_result"
    }
   ],
   "source": [
    "def count_fruits(fruits):\n",
    "  '''\n",
    "  input: ['apple', 'orange', 'apple']\n",
    "  output: {'apple':2, 'orange':1}\n",
    "  '''\n",
    "  out = {}\n",
    "  for fruit in fruits:\n",
    "    if fruit not in out:\n",
    "      out[fruit] =1\n",
    "    else:\n",
    "        out[fruit] += 1\n",
    "        return out\n",
    "  \n",
    "frutas = ['apple', 'orange', 'apple']\n",
    "count_fruits(frutas)"
   ]
  },
  {
   "cell_type": "code",
   "execution_count": null,
   "metadata": {},
   "outputs": [],
   "source": []
  }
 ],
 "metadata": {
  "kernelspec": {
   "display_name": "Python 3",
   "language": "python",
   "name": "python3"
  },
  "language_info": {
   "codemirror_mode": {
    "name": "ipython",
    "version": 3
   },
   "file_extension": ".py",
   "mimetype": "text/x-python",
   "name": "python",
   "nbconvert_exporter": "python",
   "pygments_lexer": "ipython3",
   "version": "3.10.6"
  }
 },
 "nbformat": 4,
 "nbformat_minor": 2
}
