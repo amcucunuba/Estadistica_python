{
 "cells": [
  {
   "cell_type": "code",
   "execution_count": 38,
   "metadata": {},
   "outputs": [
    {
     "data": {
      "text/html": [
       "<div>\n",
       "<style scoped>\n",
       "    .dataframe tbody tr th:only-of-type {\n",
       "        vertical-align: middle;\n",
       "    }\n",
       "\n",
       "    .dataframe tbody tr th {\n",
       "        vertical-align: top;\n",
       "    }\n",
       "\n",
       "    .dataframe thead th {\n",
       "        text-align: right;\n",
       "    }\n",
       "</style>\n",
       "<table border=\"1\" class=\"dataframe\">\n",
       "  <thead>\n",
       "    <tr style=\"text-align: right;\">\n",
       "      <th></th>\n",
       "      <th>Umur (bulan)</th>\n",
       "      <th>Jenis Kelamin</th>\n",
       "      <th>Tinggi Badan (cm)</th>\n",
       "      <th>Status Gizi</th>\n",
       "    </tr>\n",
       "  </thead>\n",
       "  <tbody>\n",
       "    <tr>\n",
       "      <th>0</th>\n",
       "      <td>0</td>\n",
       "      <td>laki-laki</td>\n",
       "      <td>44.591973</td>\n",
       "      <td>stunted</td>\n",
       "    </tr>\n",
       "    <tr>\n",
       "      <th>1</th>\n",
       "      <td>0</td>\n",
       "      <td>laki-laki</td>\n",
       "      <td>56.705203</td>\n",
       "      <td>tinggi</td>\n",
       "    </tr>\n",
       "    <tr>\n",
       "      <th>2</th>\n",
       "      <td>0</td>\n",
       "      <td>laki-laki</td>\n",
       "      <td>46.863358</td>\n",
       "      <td>normal</td>\n",
       "    </tr>\n",
       "    <tr>\n",
       "      <th>3</th>\n",
       "      <td>0</td>\n",
       "      <td>laki-laki</td>\n",
       "      <td>47.508026</td>\n",
       "      <td>normal</td>\n",
       "    </tr>\n",
       "    <tr>\n",
       "      <th>4</th>\n",
       "      <td>0</td>\n",
       "      <td>laki-laki</td>\n",
       "      <td>42.743494</td>\n",
       "      <td>severely stunted</td>\n",
       "    </tr>\n",
       "    <tr>\n",
       "      <th>...</th>\n",
       "      <td>...</td>\n",
       "      <td>...</td>\n",
       "      <td>...</td>\n",
       "      <td>...</td>\n",
       "    </tr>\n",
       "    <tr>\n",
       "      <th>120994</th>\n",
       "      <td>60</td>\n",
       "      <td>perempuan</td>\n",
       "      <td>100.600000</td>\n",
       "      <td>normal</td>\n",
       "    </tr>\n",
       "    <tr>\n",
       "      <th>120995</th>\n",
       "      <td>60</td>\n",
       "      <td>perempuan</td>\n",
       "      <td>98.300000</td>\n",
       "      <td>stunted</td>\n",
       "    </tr>\n",
       "    <tr>\n",
       "      <th>120996</th>\n",
       "      <td>60</td>\n",
       "      <td>perempuan</td>\n",
       "      <td>121.300000</td>\n",
       "      <td>normal</td>\n",
       "    </tr>\n",
       "    <tr>\n",
       "      <th>120997</th>\n",
       "      <td>60</td>\n",
       "      <td>perempuan</td>\n",
       "      <td>112.200000</td>\n",
       "      <td>normal</td>\n",
       "    </tr>\n",
       "    <tr>\n",
       "      <th>120998</th>\n",
       "      <td>60</td>\n",
       "      <td>perempuan</td>\n",
       "      <td>109.800000</td>\n",
       "      <td>normal</td>\n",
       "    </tr>\n",
       "  </tbody>\n",
       "</table>\n",
       "<p>120999 rows × 4 columns</p>\n",
       "</div>"
      ],
      "text/plain": [
       "        Umur (bulan) Jenis Kelamin  Tinggi Badan (cm)       Status Gizi\n",
       "0                  0     laki-laki          44.591973           stunted\n",
       "1                  0     laki-laki          56.705203            tinggi\n",
       "2                  0     laki-laki          46.863358            normal\n",
       "3                  0     laki-laki          47.508026            normal\n",
       "4                  0     laki-laki          42.743494  severely stunted\n",
       "...              ...           ...                ...               ...\n",
       "120994            60     perempuan         100.600000            normal\n",
       "120995            60     perempuan          98.300000           stunted\n",
       "120996            60     perempuan         121.300000            normal\n",
       "120997            60     perempuan         112.200000            normal\n",
       "120998            60     perempuan         109.800000            normal\n",
       "\n",
       "[120999 rows x 4 columns]"
      ]
     },
     "execution_count": 38,
     "metadata": {},
     "output_type": "execute_result"
    }
   ],
   "source": [
    "import numpy as np # type: ignore # linear algebra\n",
    "import pandas as pd \n",
    "\n",
    "df = pd.read_csv('data_balita.csv')\n",
    "df\n"
   ]
  },
  {
   "cell_type": "code",
   "execution_count": 52,
   "metadata": {},
   "outputs": [],
   "source": [
    "#Renombrar las columnas\n",
    "df = df.rename(columns={\n",
    "    'Umur (bulan)': 'Age (Month)',\n",
    "    'Jenis Kelamin': 'Gender',\n",
    "    'Tinggi Badan (cm)': 'Body height',\n",
    "    'Status Gizi': 'Status'\n",
    "})\n",
    "df['Gender'] = df['Gender'].replace({\n",
    "    'perempuan': '1',\n",
    "    'laki-laki': '0'\n",
    "})\n",
    "df['Status'] = df['Status'].replace({'severely stunted': 0, 'stunted': 1, 'normal': 2, 'tinggi': 3})"
   ]
  },
  {
   "cell_type": "code",
   "execution_count": 63,
   "metadata": {},
   "outputs": [
    {
     "name": "stdout",
     "output_type": "stream",
     "text": [
      "Index(['Age (Month)', 'Gender', 'Body height', 'Status'], dtype='object')\n",
      "----------------------------------------------------------------------\n",
      "        Age (Month) Gender  Body height  Status\n",
      "0                 0      0    44.591973       1\n",
      "1                 0      0    56.705203       3\n",
      "2                 0      0    46.863358       2\n",
      "3                 0      0    47.508026       2\n",
      "4                 0      0    42.743494       0\n",
      "...             ...    ...          ...     ...\n",
      "120994           60      1   100.600000       2\n",
      "120995           60      1    98.300000       1\n",
      "120996           60      1   121.300000       2\n",
      "120997           60      1   112.200000       2\n",
      "120998           60      1   109.800000       2\n",
      "\n",
      "[120999 rows x 4 columns]\n"
     ]
    }
   ],
   "source": [
    "# Verificar el cambio\n",
    "print(df.columns)\n",
    "print('-----' * 14)\n",
    "print(df)"
   ]
  },
  {
   "cell_type": "code",
   "execution_count": 66,
   "metadata": {},
   "outputs": [
    {
     "data": {
      "text/html": [
       "<div>\n",
       "<style scoped>\n",
       "    .dataframe tbody tr th:only-of-type {\n",
       "        vertical-align: middle;\n",
       "    }\n",
       "\n",
       "    .dataframe tbody tr th {\n",
       "        vertical-align: top;\n",
       "    }\n",
       "\n",
       "    .dataframe thead th {\n",
       "        text-align: right;\n",
       "    }\n",
       "</style>\n",
       "<table border=\"1\" class=\"dataframe\">\n",
       "  <thead>\n",
       "    <tr style=\"text-align: right;\">\n",
       "      <th></th>\n",
       "      <th>Age (Month)</th>\n",
       "      <th>Gender</th>\n",
       "      <th>Body height</th>\n",
       "    </tr>\n",
       "  </thead>\n",
       "  <tbody>\n",
       "    <tr>\n",
       "      <th>0</th>\n",
       "      <td>0</td>\n",
       "      <td>0</td>\n",
       "      <td>44.591973</td>\n",
       "    </tr>\n",
       "    <tr>\n",
       "      <th>1</th>\n",
       "      <td>0</td>\n",
       "      <td>0</td>\n",
       "      <td>56.705203</td>\n",
       "    </tr>\n",
       "    <tr>\n",
       "      <th>2</th>\n",
       "      <td>0</td>\n",
       "      <td>0</td>\n",
       "      <td>46.863358</td>\n",
       "    </tr>\n",
       "    <tr>\n",
       "      <th>3</th>\n",
       "      <td>0</td>\n",
       "      <td>0</td>\n",
       "      <td>47.508026</td>\n",
       "    </tr>\n",
       "    <tr>\n",
       "      <th>4</th>\n",
       "      <td>0</td>\n",
       "      <td>0</td>\n",
       "      <td>42.743494</td>\n",
       "    </tr>\n",
       "    <tr>\n",
       "      <th>...</th>\n",
       "      <td>...</td>\n",
       "      <td>...</td>\n",
       "      <td>...</td>\n",
       "    </tr>\n",
       "    <tr>\n",
       "      <th>120994</th>\n",
       "      <td>60</td>\n",
       "      <td>1</td>\n",
       "      <td>100.600000</td>\n",
       "    </tr>\n",
       "    <tr>\n",
       "      <th>120995</th>\n",
       "      <td>60</td>\n",
       "      <td>1</td>\n",
       "      <td>98.300000</td>\n",
       "    </tr>\n",
       "    <tr>\n",
       "      <th>120996</th>\n",
       "      <td>60</td>\n",
       "      <td>1</td>\n",
       "      <td>121.300000</td>\n",
       "    </tr>\n",
       "    <tr>\n",
       "      <th>120997</th>\n",
       "      <td>60</td>\n",
       "      <td>1</td>\n",
       "      <td>112.200000</td>\n",
       "    </tr>\n",
       "    <tr>\n",
       "      <th>120998</th>\n",
       "      <td>60</td>\n",
       "      <td>1</td>\n",
       "      <td>109.800000</td>\n",
       "    </tr>\n",
       "  </tbody>\n",
       "</table>\n",
       "<p>120999 rows × 3 columns</p>\n",
       "</div>"
      ],
      "text/plain": [
       "        Age (Month) Gender  Body height\n",
       "0                 0      0    44.591973\n",
       "1                 0      0    56.705203\n",
       "2                 0      0    46.863358\n",
       "3                 0      0    47.508026\n",
       "4                 0      0    42.743494\n",
       "...             ...    ...          ...\n",
       "120994           60      1   100.600000\n",
       "120995           60      1    98.300000\n",
       "120996           60      1   121.300000\n",
       "120997           60      1   112.200000\n",
       "120998           60      1   109.800000\n",
       "\n",
       "[120999 rows x 3 columns]"
      ]
     },
     "execution_count": 66,
     "metadata": {},
     "output_type": "execute_result"
    }
   ],
   "source": [
    "from sklearn.model_selection import train_test_split\n",
    "'''Se va a entrenar el modelo para que prediga el diagnistico del \n",
    "retraso en talla de un bebe menor de 60 meses, pasandole los datos de\n",
    "edad, genero y altura.'''\n",
    "# Separar las caracteristicas y el target\n",
    "X = df.iloc[:, 1:6]\n",
    "X = df.drop('Status', axis=1)\n",
    "y = df['Status']\n",
    "\n",
    "# Dividir el conjunto de datos en datos de entrenamiento y datos de prueba\n",
    "X_train, X_test, y_train, y_test = train_test_split(X, y, test_size=0.2, random_state=42)\n",
    "X"
   ]
  },
  {
   "cell_type": "code",
   "execution_count": 44,
   "metadata": {},
   "outputs": [
    {
     "data": {
      "text/plain": [
       "KNeighborsClassifier(algorithm='kd_tree', n_neighbors=1)"
      ]
     },
     "execution_count": 44,
     "metadata": {},
     "output_type": "execute_result"
    }
   ],
   "source": [
    "# entrenar el modelo.\n",
    "from sklearn.neighbors import KNeighborsClassifier\n",
    "\n",
    "#Crear un objetoo KNN con k=3\n",
    "knn = KNeighborsClassifier(algorithm='kd_tree', n_neighbors=1)\n",
    "\n",
    "# Entrenar el modelo con los datos de entrenamiento.\n",
    "knn.fit(X_train, y_train)"
   ]
  },
  {
   "cell_type": "code",
   "execution_count": 45,
   "metadata": {},
   "outputs": [
    {
     "name": "stdout",
     "output_type": "stream",
     "text": [
      "Akurasi model KNN: 0.9990495867768595\n"
     ]
    }
   ],
   "source": [
    "from sklearn.metrics import accuracy_score\n",
    "\n",
    "# Hacer predicciones con los datos de prueba\n",
    "y_pred = knn.predict(X_test)\n",
    "\n",
    "# Calcular la presición del modelo.\n",
    "accuracy = accuracy_score(y_test, y_pred)\n",
    "print('Akurasi model KNN:', accuracy)"
   ]
  },
  {
   "cell_type": "code",
   "execution_count": 46,
   "metadata": {},
   "outputs": [
    {
     "name": "stdout",
     "output_type": "stream",
     "text": [
      "confusion_matrix knn:\n"
     ]
    },
    {
     "data": {
      "text/plain": [
       "array([[ 4129,     1,     0,     0],\n",
       "       [    6,  2782,     2,     0],\n",
       "       [    0,     3, 13372,     7],\n",
       "       [    0,     0,     4,  3894]], dtype=int64)"
      ]
     },
     "execution_count": 46,
     "metadata": {},
     "output_type": "execute_result"
    }
   ],
   "source": [
    "from sklearn.metrics import classification_report, confusion_matrix\n",
    "\n",
    "print('confusion_matrix knn:')\n",
    "confusion_matrix(y_test, y_pred)"
   ]
  },
  {
   "cell_type": "code",
   "execution_count": 47,
   "metadata": {},
   "outputs": [
    {
     "name": "stdout",
     "output_type": "stream",
     "text": [
      "              precision    recall  f1-score   support\n",
      "\n",
      "           0       1.00      1.00      1.00      4130\n",
      "           1       1.00      1.00      1.00      2790\n",
      "           2       1.00      1.00      1.00     13382\n",
      "           3       1.00      1.00      1.00      3898\n",
      "\n",
      "    accuracy                           1.00     24200\n",
      "   macro avg       1.00      1.00      1.00     24200\n",
      "weighted avg       1.00      1.00      1.00     24200\n",
      "\n"
     ]
    }
   ],
   "source": [
    "print(classification_report(y_test.values.reshape(-1, 1), y_pred))"
   ]
  },
  {
   "cell_type": "code",
   "execution_count": 48,
   "metadata": {},
   "outputs": [
    {
     "name": "stdout",
     "output_type": "stream",
     "text": [
      "Cross val:  [0.99855372 0.99876033 0.99917355 0.99958678 0.99917355]\n",
      "Accuracy :  0.9990495867768594\n"
     ]
    }
   ],
   "source": [
    "from sklearn.model_selection import cross_val_score\n",
    "\n",
    "print('Cross val: ', cross_val_score(knn, y_test.values.reshape(-1, 1), y_pred, cv = 5))\n",
    "print('Accuracy : ', np.mean(cross_val_score(knn, y_test.values.reshape(-1, 1), y_pred)))"
   ]
  },
  {
   "cell_type": "code",
   "execution_count": 76,
   "metadata": {},
   "outputs": [
    {
     "data": {
      "text/plain": [
       "'Severely stuned'"
      ]
     },
     "execution_count": 76,
     "metadata": {},
     "output_type": "execute_result"
    }
   ],
   "source": [
    "def interpretation(pred):\n",
    "    if pred == 0:\n",
    "        return \"Severely stuned\"\n",
    "    elif pred == 1: \n",
    "        return 'Stuned'\n",
    "    elif pred == 2: \n",
    "        return 'Normal'\n",
    "    else: \n",
    "        return 'Tall'\n",
    "\n",
    "test = pd.DataFrame({'Age (Month)': [16], 'Gender': [1], 'Body height': [70]})\n",
    "pred = knn.predict(test)\n",
    "\n",
    "interpretation(pred)"
   ]
  },
  {
   "cell_type": "code",
   "execution_count": null,
   "metadata": {},
   "outputs": [],
   "source": []
  }
 ],
 "metadata": {
  "kernelspec": {
   "display_name": "Python 3",
   "language": "python",
   "name": "python3"
  },
  "language_info": {
   "codemirror_mode": {
    "name": "ipython",
    "version": 3
   },
   "file_extension": ".py",
   "mimetype": "text/x-python",
   "name": "python",
   "nbconvert_exporter": "python",
   "pygments_lexer": "ipython3",
   "version": "3.9.12"
  }
 },
 "nbformat": 4,
 "nbformat_minor": 2
}
