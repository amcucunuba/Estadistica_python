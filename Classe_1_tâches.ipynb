{
 "cells": [
  {
   "cell_type": "code",
   "execution_count": 20,
   "metadata": {},
   "outputs": [],
   "source": [
    "import numpy as np\n",
    "import numpy.linalg as linalg\n",
    "import math"
   ]
  },
  {
   "cell_type": "code",
   "execution_count": 5,
   "metadata": {},
   "outputs": [
    {
     "name": "stdout",
     "output_type": "stream",
     "text": [
      "x = [1.],\n",
      " y = [-1.],\n",
      " z = [2.]\n"
     ]
    }
   ],
   "source": [
    "# 1. Matriz A, sistema con una unica solución\n",
    "A = np.array([[ 2, 3, 1],\n",
    "              [ 3, -2,-4],\n",
    "              [5, -1, -1]])\n",
    "\n",
    "# Vector b\n",
    "b = np.array([[1],\n",
    "              [-3],\n",
    "              [4]])\n",
    "\n",
    "# Resolver el sistema de ecuaciones lineales\n",
    "x,y,z = linalg.solve(A, b)\n",
    "print(f\"x = {x},\\n y = {y},\\n z = {z}\")"
   ]
  },
  {
   "cell_type": "code",
   "execution_count": 6,
   "metadata": {},
   "outputs": [
    {
     "name": "stdout",
     "output_type": "stream",
     "text": [
      "True\n",
      "True\n",
      "True\n"
     ]
    }
   ],
   "source": [
    "# comprobación \n",
    "print(math.isclose(2*x +3*y +1*z, 1))\n",
    "print(math.isclose(3*x -2*y -4*z, -3))\n",
    "print(math.isclose(5*x -1*y -1*z, 4))"
   ]
  },
  {
   "cell_type": "code",
   "execution_count": 9,
   "metadata": {},
   "outputs": [
    {
     "name": "stdout",
     "output_type": "stream",
     "text": [
      "x = [1.21428571],\n",
      " y = [-0.07142857],\n",
      " z = [0.5]\n"
     ]
    }
   ],
   "source": [
    "# 2. Matriz A, sistema con una unica solución\n",
    "A = np.array([[ 2, -1, 3],\n",
    "              [ 3, +2,-1],\n",
    "              [1, +3, -4]])\n",
    "\n",
    "# Vector b\n",
    "b = np.array([[4],\n",
    "              [3],\n",
    "              [-1]])\n",
    "\n",
    "# Resolver el sistema de ecuaciones lineales\n",
    "solucion = linalg.solve(A, b)\n",
    "print(f\"x = {solucion[0]},\\n y = {solucion[1]},\\n z = {solucion[2]}\")"
   ]
  },
  {
   "cell_type": "code",
   "execution_count": 13,
   "metadata": {},
   "outputs": [
    {
     "name": "stdout",
     "output_type": "stream",
     "text": [
      "True\n",
      "True\n",
      "True\n"
     ]
    }
   ],
   "source": [
    "# comprobación \n",
    "print(math.isclose(2*solucion[0] -1*solucion[1] +3*solucion[2], 4))\n",
    "print(math.isclose(3*solucion[0] +2*solucion[1] -1*solucion[2], 3))\n",
    "print(math.isclose(1*solucion[0] +3*solucion[1] -4*solucion[2], -1))"
   ]
  },
  {
   "cell_type": "code",
   "execution_count": 15,
   "metadata": {},
   "outputs": [
    {
     "name": "stdout",
     "output_type": "stream",
     "text": [
      "x = [0.],\n",
      " y = [-0.],\n",
      " z = [0.]\n"
     ]
    }
   ],
   "source": [
    "# 3. Matriz A, sistema sin solución\n",
    "A = np.array([[ 2, -3, 1],\n",
    "              [ 1, +1,-1],\n",
    "              [4, -2, -3]])\n",
    "\n",
    "# Vector b\n",
    "b = np.array([[0],\n",
    "              [0],\n",
    "              [0]])\n",
    "\n",
    "# Resolver el sistema de ecuaciones lineales\n",
    "x,y,z = linalg.solve(A, b)\n",
    "print(f\"x = {x},\\n y = {y},\\n z = {z}\")"
   ]
  },
  {
   "cell_type": "code",
   "execution_count": 16,
   "metadata": {},
   "outputs": [
    {
     "name": "stdout",
     "output_type": "stream",
     "text": [
      "True\n",
      "True\n",
      "True\n"
     ]
    }
   ],
   "source": [
    "# comprobación \n",
    "print(math.isclose(2*x -3*y +1*z, 0))\n",
    "print(math.isclose(1*x +1*y -1*z, 0))\n",
    "print(math.isclose(4*x -2*y -3*z, 0))"
   ]
  },
  {
   "cell_type": "code",
   "execution_count": 21,
   "metadata": {},
   "outputs": [
    {
     "ename": "LinAlgError",
     "evalue": "Singular matrix",
     "output_type": "error",
     "traceback": [
      "\u001b[1;31m---------------------------------------------------------------------------\u001b[0m",
      "\u001b[1;31mLinAlgError\u001b[0m                               Traceback (most recent call last)",
      "Input \u001b[1;32mIn [21]\u001b[0m, in \u001b[0;36m<cell line: 12>\u001b[1;34m()\u001b[0m\n\u001b[0;32m      7\u001b[0m b \u001b[38;5;241m=\u001b[39m np\u001b[38;5;241m.\u001b[39marray([[\u001b[38;5;241m3\u001b[39m],\n\u001b[0;32m      8\u001b[0m               [\u001b[38;5;241m1\u001b[39m],\n\u001b[0;32m      9\u001b[0m               [\u001b[38;5;241m4\u001b[39m]])\n\u001b[0;32m     11\u001b[0m \u001b[38;5;66;03m# Resolver el sistema de ecuaciones lineales\u001b[39;00m\n\u001b[1;32m---> 12\u001b[0m x,y,z \u001b[38;5;241m=\u001b[39m \u001b[43mlinalg\u001b[49m\u001b[38;5;241;43m.\u001b[39;49m\u001b[43msolve\u001b[49m\u001b[43m(\u001b[49m\u001b[43mA\u001b[49m\u001b[43m,\u001b[49m\u001b[43m \u001b[49m\u001b[43mb\u001b[49m\u001b[43m)\u001b[49m\n\u001b[0;32m     13\u001b[0m \u001b[38;5;28mprint\u001b[39m(\u001b[38;5;124mf\u001b[39m\u001b[38;5;124m\"\u001b[39m\u001b[38;5;124mx = \u001b[39m\u001b[38;5;132;01m{\u001b[39;00mx\u001b[38;5;132;01m}\u001b[39;00m\u001b[38;5;124m,\u001b[39m\u001b[38;5;130;01m\\n\u001b[39;00m\u001b[38;5;124m y = \u001b[39m\u001b[38;5;132;01m{\u001b[39;00my\u001b[38;5;132;01m}\u001b[39;00m\u001b[38;5;124m,\u001b[39m\u001b[38;5;130;01m\\n\u001b[39;00m\u001b[38;5;124m z = \u001b[39m\u001b[38;5;132;01m{\u001b[39;00mz\u001b[38;5;132;01m}\u001b[39;00m\u001b[38;5;124m\"\u001b[39m)\n",
      "File \u001b[1;32m<__array_function__ internals>:180\u001b[0m, in \u001b[0;36msolve\u001b[1;34m(*args, **kwargs)\u001b[0m\n",
      "File \u001b[1;32mc:\\Users\\Andres\\Python\\Python310\\lib\\site-packages\\numpy\\linalg\\linalg.py:400\u001b[0m, in \u001b[0;36msolve\u001b[1;34m(a, b)\u001b[0m\n\u001b[0;32m    398\u001b[0m signature \u001b[38;5;241m=\u001b[39m \u001b[38;5;124m'\u001b[39m\u001b[38;5;124mDD->D\u001b[39m\u001b[38;5;124m'\u001b[39m \u001b[38;5;28;01mif\u001b[39;00m isComplexType(t) \u001b[38;5;28;01melse\u001b[39;00m \u001b[38;5;124m'\u001b[39m\u001b[38;5;124mdd->d\u001b[39m\u001b[38;5;124m'\u001b[39m\n\u001b[0;32m    399\u001b[0m extobj \u001b[38;5;241m=\u001b[39m get_linalg_error_extobj(_raise_linalgerror_singular)\n\u001b[1;32m--> 400\u001b[0m r \u001b[38;5;241m=\u001b[39m \u001b[43mgufunc\u001b[49m\u001b[43m(\u001b[49m\u001b[43ma\u001b[49m\u001b[43m,\u001b[49m\u001b[43m \u001b[49m\u001b[43mb\u001b[49m\u001b[43m,\u001b[49m\u001b[43m \u001b[49m\u001b[43msignature\u001b[49m\u001b[38;5;241;43m=\u001b[39;49m\u001b[43msignature\u001b[49m\u001b[43m,\u001b[49m\u001b[43m \u001b[49m\u001b[43mextobj\u001b[49m\u001b[38;5;241;43m=\u001b[39;49m\u001b[43mextobj\u001b[49m\u001b[43m)\u001b[49m\n\u001b[0;32m    402\u001b[0m \u001b[38;5;28;01mreturn\u001b[39;00m wrap(r\u001b[38;5;241m.\u001b[39mastype(result_t, copy\u001b[38;5;241m=\u001b[39m\u001b[38;5;28;01mFalse\u001b[39;00m))\n",
      "File \u001b[1;32mc:\\Users\\Andres\\Python\\Python310\\lib\\site-packages\\numpy\\linalg\\linalg.py:89\u001b[0m, in \u001b[0;36m_raise_linalgerror_singular\u001b[1;34m(err, flag)\u001b[0m\n\u001b[0;32m     88\u001b[0m \u001b[38;5;28;01mdef\u001b[39;00m \u001b[38;5;21m_raise_linalgerror_singular\u001b[39m(err, flag):\n\u001b[1;32m---> 89\u001b[0m     \u001b[38;5;28;01mraise\u001b[39;00m LinAlgError(\u001b[38;5;124m\"\u001b[39m\u001b[38;5;124mSingular matrix\u001b[39m\u001b[38;5;124m\"\u001b[39m)\n",
      "\u001b[1;31mLinAlgError\u001b[0m: Singular matrix"
     ]
    }
   ],
   "source": [
    "# 4. Matriz A, sistema sin solución\n",
    "A = np.array([[ +1, +8, -5],\n",
    "              [ +3, -2, +3],\n",
    "              [+2, +3, -1]])\n",
    "\n",
    "# Vector b\n",
    "b = np.array([[3],\n",
    "              [1],\n",
    "              [4]])\n",
    "\n",
    "# Resolver el sistema de ecuaciones lineales\n",
    "x,y,z = linalg.solve(A, b)\n",
    "print(f\"x = {x},\\n y = {y},\\n z = {z}\")"
   ]
  },
  {
   "cell_type": "code",
   "execution_count": null,
   "metadata": {},
   "outputs": [],
   "source": []
  }
 ],
 "metadata": {
  "kernelspec": {
   "display_name": "Python 3",
   "language": "python",
   "name": "python3"
  },
  "language_info": {
   "codemirror_mode": {
    "name": "ipython",
    "version": 3
   },
   "file_extension": ".py",
   "mimetype": "text/x-python",
   "name": "python",
   "nbconvert_exporter": "python",
   "pygments_lexer": "ipython3",
   "version": "3.10.6"
  }
 },
 "nbformat": 4,
 "nbformat_minor": 2
}
